{
 "cells": [
  {
   "cell_type": "code",
   "execution_count": 1,
   "metadata": {},
   "outputs": [],
   "source": [
    "# 1.Create a database with database name as Hospital, Create a table Patient(name, id,department,address,bill amount). \n",
    "# 2. Insert atleast 5 patient details.\n",
    "# 3. Modify the table by ading an extracolumn Lab\n",
    " \n",
    "# 4. Select all people who have opted for a particular department\n",
    "# 5. Display all patient whose name starts with Letter N\n",
    "# 6. Display the patients by ordering as per billing amount\n",
    "# 7. Update a particular patient record\n",
    " \n",
    "# 8.Delete a particular patient record"
   ]
  },
  {
   "cell_type": "code",
   "execution_count": 13,
   "metadata": {},
   "outputs": [],
   "source": [
    "# to create new database\n",
    "import mysql.connector\n",
    "cnx = mysql.connector.connect(user='root', password='', host='127.0.0.1')\n",
    "#creating the cursor object\n",
    "cur = cnx.cursor()\n",
    "\n",
    "try:\n",
    "    #creating a new database\n",
    "    cur.execute(\"create database Hospital\")\n",
    "    cur.execute(\"create table Patient(name varchar(20) not null, id int(20) not null primary key, Dept_id int not null, address varchar(20) not null, bill float not null)\")\n",
    "    \n",
    "#     cur.executemany(sql,val)\n",
    "    \n",
    "except:\n",
    "    # Return to previous transaction state\n",
    "    cnx.rollback()\n",
    "cnx.close()"
   ]
  },
  {
   "cell_type": "code",
   "execution_count": 23,
   "metadata": {},
   "outputs": [],
   "source": [
    "# to alter table\n",
    "import mysql.connector\n",
    "cnx = mysql.connector.connect(user='root', password='', host='127.0.0.1', database='hospital')\n",
    "#creating the cursor object\n",
    "cur = cnx.cursor()\n",
    "try:\n",
    "    #alteringing table\n",
    "    cur.execute(\"alter table Patient add lab varchar(20) not null\")\n",
    "except:\n",
    "    cnx.rollback()\n",
    "cnx.close()"
   ]
  },
  {
   "cell_type": "code",
   "execution_count": 25,
   "metadata": {},
   "outputs": [
    {
     "name": "stdout",
     "output_type": "stream",
     "text": [
      "1 record inserted!\n"
     ]
    }
   ],
   "source": [
    "# for single insertion\n",
    "import mysql.connector\n",
    "cnx = mysql.connector.connect(user='root', password='', host='127.0.0.1', database='hospital')\n",
    "cur = cnx.cursor()\n",
    "sql = \"insert into Patient(name, id, Dept_id, address, bill) values (%s, %s, %s, %s, %s)\"\n",
    "val1 = (\"Naman\", 19, 101, \"Mumbai\", 25000.00)\n",
    "try:\n",
    "    cur.execute(sql,val1)\n",
    "    cnx.commit()\n",
    "except:\n",
    "    cnx.rollback()\n",
    "print(cur.rowcount,\"record inserted!\")\n",
    "cnx.close()"
   ]
  },
  {
   "cell_type": "code",
   "execution_count": 19,
   "metadata": {},
   "outputs": [
    {
     "name": "stdout",
     "output_type": "stream",
     "text": [
      "2 record inserted!\n"
     ]
    }
   ],
   "source": [
    "# to multi insert data\n",
    "import mysql.connector\n",
    "cnx = mysql.connector.connect(user='root', password='', host='127.0.0.1', database='hospital')\n",
    "cur = cnx.cursor()\n",
    "sql = \"insert into Patient(name, id, Dept_id, address, bill) values (%s, %s, %s, %s, %s)\"\n",
    "val = [(\"Johny\", 24, 101, \"Mumbai\", 26000.00),(\"Jockey\", 22, 101, \"Pune\", 21000.00)]\n",
    "try:\n",
    "    cur.executemany(sql,val)\n",
    "    cnx.commit()\n",
    "except:\n",
    "    cnx.rollback()\n",
    "print(cur.rowcount,\"record inserted!\")\n",
    "cnx.close()"
   ]
  },
  {
   "cell_type": "code",
   "execution_count": null,
   "metadata": {},
   "outputs": [],
   "source": [
    "# multi insert\n",
    "import mysql.connector\n",
    "cnx = mysql.connector.connect(user='root', password='', host='127.0.0.1', database='hospital')\n",
    "cur = cnx.cursor()\n",
    "sql = \"insert into Patient(name, id, Dept_id, address, bill) values (%s, %s, %s, %s, %s)\"\n",
    "val = [(\"Rocky\", 25, 103, \"Pune\", 24000.00),(\"Tom\", 26, 103, \"NewYork\", 27000.00)]\n",
    "try:\n",
    "    cur.executemany(sql,val)\n",
    "    cnx.commit()\n",
    "except:\n",
    "    cnx.rollback()\n",
    "print(cur.rowcount,\"record inserted!\")\n",
    "cnx.close()"
   ]
  },
  {
   "cell_type": "code",
   "execution_count": 24,
   "metadata": {},
   "outputs": [
    {
     "name": "stdout",
     "output_type": "stream",
     "text": [
      "('Jockey', 22, 101, 'Pune', 21000.0, '')\n",
      "('John', 23, 101, 'Mumbai', 25000.0, '')\n",
      "('Johny', 24, 101, 'Mumbai', 26000.0, '')\n",
      "('Rocky', 25, 103, 'Pune', 24000.0, '')\n",
      "('Tom', 26, 103, 'NewYork', 27000.0, '')\n"
     ]
    }
   ],
   "source": [
    "#selecting data\n",
    "import mysql.connector\n",
    "cnx = mysql.connector.connect(user='root', password='', host='127.0.0.1', database='hospital')\n",
    "#creating the cursor object\n",
    "cur = cnx.cursor()\n",
    "try:\n",
    "    cur.execute(\"select * from Patient\")\n",
    "    #fetching the rows from the cursor object\n",
    "    result = cur.fetchall()\n",
    "    #printing the result\n",
    "\n",
    "    for x in result:\n",
    "        print(x)\n",
    "except:\n",
    "    cnx.rollback()\n",
    "cnx.close()"
   ]
  },
  {
   "cell_type": "code",
   "execution_count": 34,
   "metadata": {},
   "outputs": [
    {
     "name": "stdout",
     "output_type": "stream",
     "text": [
      "('Naman', 19, 101, 'Mumbai', 25000.0, '')\n"
     ]
    }
   ],
   "source": [
    "# selecting data\n",
    "import mysql.connector\n",
    "cnx = mysql.connector.connect(user='root', password='', host='127.0.0.1', database='hospital')\n",
    "#creating the cursor object\n",
    "cur = cnx.cursor()\n",
    "try:\n",
    "    cur.execute(\"select * from patient where name LIKE 'N%' \")\n",
    "    #fetching the rows from the cursor object\n",
    "    result = cur.fetchall()\n",
    "    #printing the result\n",
    "\n",
    "    for x in result:\n",
    "        print(x)\n",
    "except:\n",
    "    cnx.rollback()\n",
    "cnx.close()"
   ]
  },
  {
   "cell_type": "code",
   "execution_count": 36,
   "metadata": {},
   "outputs": [
    {
     "name": "stdout",
     "output_type": "stream",
     "text": [
      "('Jockey', 22, 101, 'Pune', 21000.0, '')\n",
      "('Rocky', 25, 103, 'Pune', 24000.0, '')\n",
      "('Naman', 19, 101, 'Mumbai', 25000.0, '')\n",
      "('John', 23, 101, 'Mumbai', 25000.0, '')\n",
      "('Johny', 24, 101, 'Mumbai', 26000.0, '')\n",
      "('Tom', 26, 103, 'NewYork', 27000.0, '')\n"
     ]
    }
   ],
   "source": [
    "# selecting data\n",
    "import mysql.connector\n",
    "cnx = mysql.connector.connect(user='root', password='', host='127.0.0.1', database='hospital')\n",
    "#creating the cursor object\n",
    "cur = cnx.cursor()\n",
    "try:\n",
    "    cur.execute(\"select * from patient order by bill \")\n",
    "    #fetching the rows from the cursor object\n",
    "    result = cur.fetchall()\n",
    "    #printing the result\n",
    "\n",
    "    for x in result:\n",
    "        print(x)\n",
    "except:\n",
    "    cnx.rollback()\n",
    "cnx.close()"
   ]
  },
  {
   "cell_type": "code",
   "execution_count": 39,
   "metadata": {},
   "outputs": [],
   "source": [
    "# updating data\n",
    "import mysql.connector\n",
    "cnx = mysql.connector.connect(user='root', password='', host='127.0.0.1', database='hospital')\n",
    "#creating the cursor object\n",
    "cur = cnx.cursor()\n",
    "try:\n",
    "    cur.execute(\"update patient set name='Niti' where id=19 \")\n",
    "    cnx.commit()\n",
    "except:\n",
    "    cnx.rollback()\n",
    "cnx.close()"
   ]
  },
  {
   "cell_type": "code",
   "execution_count": 40,
   "metadata": {},
   "outputs": [],
   "source": [
    "# deleting data\n",
    "import mysql.connector\n",
    "cnx = mysql.connector.connect(user='root', password='', host='127.0.0.1', database='hospital')\n",
    "#creating the cursor object\n",
    "cur = cnx.cursor()\n",
    "try:\n",
    "    cur.execute(\"DELETE FROM patient where name='John' \")\n",
    "    cnx.commit()\n",
    "except:\n",
    "    cnx.rollback()\n",
    "cnx.close()"
   ]
  },
  {
   "cell_type": "code",
   "execution_count": null,
   "metadata": {},
   "outputs": [],
   "source": []
  }
 ],
 "metadata": {
  "kernelspec": {
   "display_name": "Python 3",
   "language": "python",
   "name": "python3"
  },
  "language_info": {
   "codemirror_mode": {
    "name": "ipython",
    "version": 3
   },
   "file_extension": ".py",
   "mimetype": "text/x-python",
   "name": "python",
   "nbconvert_exporter": "python",
   "pygments_lexer": "ipython3",
   "version": "3.8.5"
  }
 },
 "nbformat": 4,
 "nbformat_minor": 4
}
