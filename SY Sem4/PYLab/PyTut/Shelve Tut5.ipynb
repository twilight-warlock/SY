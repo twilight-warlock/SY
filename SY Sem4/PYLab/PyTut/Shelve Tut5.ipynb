{
 "cells": [
  {
   "cell_type": "code",
   "execution_count": 2,
   "metadata": {},
   "outputs": [],
   "source": [
    "import shelve\n",
    "shelf = shelve.open(\"Devansh\")\n",
    "shelf.close()"
   ]
  },
  {
   "cell_type": "code",
   "execution_count": 7,
   "metadata": {},
   "outputs": [
    {
     "name": "stdout",
     "output_type": "stream",
     "text": [
      "Enter student name: A\n",
      "Enter roll number: 1\n",
      "Enter student division: B101\n",
      "Enter student's stream: IT\n",
      "Enter percentage: 95\n",
      "Enter student name: B\n",
      "Enter roll number: 2\n",
      "Enter student division: B101\n",
      "Enter student's stream: IT\n",
      "Enter percentage: 94\n",
      "Enter student name: C\n",
      "Enter roll number: 3\n",
      "Enter student division: B102\n",
      "Enter student's stream: COMP\n",
      "Enter percentage: 89\n",
      "Enter student name: D\n",
      "Enter roll number: 4\n",
      "Enter student division: B102\n",
      "Enter student's stream: IT\n",
      "Enter percentage: 92\n",
      "Enter student name: E\n",
      "Enter roll number: 5\n",
      "Enter student division: B103\n",
      "Enter student's stream: IT\n",
      "Enter percentage: 86\n",
      "Enter student name: F\n",
      "Enter roll number: 6\n",
      "Enter student division: B103\n",
      "Enter student's stream: IT\n",
      "Enter percentage: 88\n",
      "Enter student name: G\n",
      "Enter roll number: 7\n",
      "Enter student division: B103\n",
      "Enter student's stream: COMP\n",
      "Enter percentage: 93\n",
      "Enter student name: H\n",
      "Enter roll number: 8\n",
      "Enter student division: B104\n",
      "Enter student's stream: EXTC\n",
      "Enter percentage: 91\n",
      "Enter student name: I\n",
      "Enter roll number: 9\n",
      "Enter student division: B104\n",
      "Enter student's stream: IT\n",
      "Enter percentage: 99\n",
      "Enter student name: J\n",
      "Enter roll number: 10\n",
      "Enter student division: B105\n",
      "Enter student's stream: ETRX\n",
      "Enter percentage: 71\n"
     ]
    }
   ],
   "source": [
    "students = shelve.open(\"Devansh\", writeback=True)\n",
    "i = 0\n",
    "while i<10:\n",
    "    name = input(\"Enter student name: \")\n",
    "    roll_num = input(\"Enter roll number: \")\n",
    "    div = input(\"Enter student division: \")\n",
    "    stream = input(\"Enter student's stream: \")\n",
    "    percentage = input(\"Enter percentage: \")\n",
    "    students[roll_num] = {\"name\":name, \"div\":div, \"stream\":stream, \"percentage\":percentage}\n",
    "    i += 1\n",
    "students.sync() \n",
    "students.close()"
   ]
  },
  {
   "cell_type": "code",
   "execution_count": 8,
   "metadata": {},
   "outputs": [
    {
     "name": "stdout",
     "output_type": "stream",
     "text": [
      "1 {'name': 'A', 'div': 'B101', 'stream': 'IT', 'percentage': '95'}\n",
      "2 {'name': 'B', 'div': 'B101', 'stream': 'IT', 'percentage': '94'}\n",
      "3 {'name': 'C', 'div': 'B102', 'stream': 'COMP', 'percentage': '89'}\n",
      "4 {'name': 'D', 'div': 'B102', 'stream': 'IT', 'percentage': '92'}\n",
      "5 {'name': 'E', 'div': 'B103', 'stream': 'IT', 'percentage': '86'}\n",
      "6 {'name': 'F', 'div': 'B103', 'stream': 'IT', 'percentage': '88'}\n",
      "7 {'name': 'G', 'div': 'B103', 'stream': 'COMP', 'percentage': '93'}\n",
      "8 {'name': 'H', 'div': 'B104', 'stream': 'EXTC', 'percentage': '91'}\n",
      "9 {'name': 'I', 'div': 'B104', 'stream': 'IT', 'percentage': '99'}\n",
      "10 {'name': 'J', 'div': 'B105', 'stream': 'ETRX', 'percentage': '71'}\n"
     ]
    }
   ],
   "source": [
    "# Read\n",
    "students = shelve.open(\"Devansh\", writeback=False)\n",
    "for k,v in students.items():\n",
    "    print(k,v)"
   ]
  },
  {
   "cell_type": "code",
   "execution_count": 11,
   "metadata": {},
   "outputs": [
    {
     "name": "stdout",
     "output_type": "stream",
     "text": [
      "Enter roll no. of student to update: 4\n",
      "Enter new student name: DS\n",
      "Enter new student division: B105\n",
      "Enter new student's stream: COMP\n",
      "Enter new percentage: 99\n",
      "4 {'name': 'DS', 'div': 'B105', 'stream': 'COMP', 'percentage': '99'}\n"
     ]
    }
   ],
   "source": [
    "# Update\n",
    "rollno = input(\"Enter roll no. of student to update: \")\n",
    "\n",
    "students = shelve.open(\"Devansh\", writeback=True)\n",
    "name = input(\"Enter new student name: \")\n",
    "div = input(\"Enter new student division: \")\n",
    "stream = input(\"Enter new student's stream: \")\n",
    "percentage = input(\"Enter new percentage: \")\n",
    "\n",
    "temp = {rollno: {\"name\":name, \"div\":div, \"stream\":stream, \"percentage\":percentage}}\n",
    "students.update(temp)\n",
    "students.close()\n",
    "\n",
    "# Displaying updated record\n",
    "students = shelve.open(\"Devansh\", writeback=False)\n",
    "for k,v in students.items():\n",
    "    if k==rollno:\n",
    "        print(k,v)"
   ]
  },
  {
   "cell_type": "code",
   "execution_count": 13,
   "metadata": {},
   "outputs": [
    {
     "name": "stdout",
     "output_type": "stream",
     "text": [
      "Enter roll no. of student to delete: 28\n",
      "None\n"
     ]
    }
   ],
   "source": [
    "# Delete\n",
    "rollno = input(\"Enter roll no. of student to delete: \")\n",
    "students = shelve.open(\"Devansh\", writeback=True)\n",
    "print(students.pop(rollno,None))"
   ]
  },
  {
   "cell_type": "code",
   "execution_count": null,
   "metadata": {},
   "outputs": [],
   "source": []
  }
 ],
 "metadata": {
  "kernelspec": {
   "display_name": "Python 3",
   "language": "python",
   "name": "python3"
  },
  "language_info": {
   "codemirror_mode": {
    "name": "ipython",
    "version": 3
   },
   "file_extension": ".py",
   "mimetype": "text/x-python",
   "name": "python",
   "nbconvert_exporter": "python",
   "pygments_lexer": "ipython3",
   "version": "3.8.5"
  }
 },
 "nbformat": 4,
 "nbformat_minor": 4
}
