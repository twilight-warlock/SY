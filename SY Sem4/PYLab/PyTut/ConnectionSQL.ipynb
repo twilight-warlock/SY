{
 "cells": [
  {
   "cell_type": "code",
   "execution_count": 13,
   "metadata": {},
   "outputs": [],
   "source": [
    "# Start xampp \n",
    "# Apache and mysql\n",
    "# Go to localhost:80\n",
    "# Click on phpmyadmin\n",
    "# Click on databases\n",
    "# Select required database\n",
    "# Click on required table\n",
    "# And voila"
   ]
  },
  {
   "cell_type": "code",
   "execution_count": 1,
   "metadata": {},
   "outputs": [
    {
     "name": "stdout",
     "output_type": "stream",
     "text": [
      "Collecting mysql-connector-python\n",
      "  Downloading mysql_connector_python-8.0.23-cp38-cp38-win_amd64.whl (854 kB)\n",
      "Collecting protobuf>=3.0.0\n",
      "  Downloading protobuf-3.15.8-py2.py3-none-any.whl (173 kB)\n",
      "Requirement already satisfied: six>=1.9 in c:\\users\\devansh\\anaconda3\\lib\\site-packages (from protobuf>=3.0.0->mysql-connector-python) (1.15.0)\n",
      "Installing collected packages: protobuf, mysql-connector-python\n",
      "Successfully installed mysql-connector-python-8.0.23 protobuf-3.15.8\n"
     ]
    }
   ],
   "source": [
    "!pip install mysql-connector-python"
   ]
  },
  {
   "cell_type": "code",
   "execution_count": 3,
   "metadata": {},
   "outputs": [],
   "source": [
    "import mysql.connector"
   ]
  },
  {
   "cell_type": "code",
   "execution_count": 5,
   "metadata": {},
   "outputs": [
    {
     "name": "stdout",
     "output_type": "stream",
     "text": [
      "<mysql.connector.connection.MySQLConnection object at 0x0000020EB659CE20>\n"
     ]
    }
   ],
   "source": [
    "cnx = mysql.connector.connect(user='root', password='', host='127.0.0.1')\n",
    "print(cnx)"
   ]
  },
  {
   "cell_type": "code",
   "execution_count": 6,
   "metadata": {},
   "outputs": [
    {
     "name": "stdout",
     "output_type": "stream",
     "text": [
      "MySQLCursor: (Nothing executed yet)\n"
     ]
    }
   ],
   "source": [
    "# creating the cursor object\n",
    "\n",
    "# to sends sql statements to server and fetch the result\n",
    "cur = cnx.cursor()\n",
    "print(cur)"
   ]
  },
  {
   "cell_type": "code",
   "execution_count": 7,
   "metadata": {},
   "outputs": [
    {
     "name": "stdout",
     "output_type": "stream",
     "text": [
      "('information_schema',)\n",
      "('mysql',)\n",
      "('performance_schema',)\n",
      "('phpmyadmin',)\n",
      "('sampledb',)\n",
      "('test',)\n"
     ]
    }
   ],
   "source": [
    "# to create new database\n",
    "import mysql.connector\n",
    "cnx = mysql.connector.connect(user='root', password='', host='127.0.0.1')\n",
    "#creating the cursor object\n",
    "cur = cnx.cursor()\n",
    "#to print all databases\n",
    "try:\n",
    "    #creating a new database\n",
    "    cur.execute(\"create database sampleDB\")\n",
    "    dbs = cur.execute(\"show databases\")\n",
    "except:\n",
    "    # Return to previous transaction state\n",
    "    cnx.rollback()\n",
    "for x in cur:\n",
    "    print(x)\n",
    "cnx.close()"
   ]
  },
  {
   "cell_type": "code",
   "execution_count": 9,
   "metadata": {},
   "outputs": [],
   "source": [
    "# to create new table\n",
    "import mysql.connector\n",
    "cnx = mysql.connector.connect(user='root', password='', host='127.0.0.1', database='sampledb')\n",
    "#creating the cursor object\n",
    "cur = cnx.cursor()\n",
    "try:\n",
    "    #creating a new table\n",
    "    cur.execute(\"create table Employee(name varchar(20) not null, id int(20) not null primary key, salary float not null, Dept_id int not null)\")\n",
    "except:\n",
    "    cnx.rollback()\n",
    "cnx.close()"
   ]
  },
  {
   "cell_type": "code",
   "execution_count": 10,
   "metadata": {},
   "outputs": [],
   "source": [
    "# to alter table\n",
    "import mysql.connector\n",
    "cnx = mysql.connector.connect(user='root', password='', host='127.0.0.1', database='sampledb')\n",
    "#creating the cursor object\n",
    "cur = cnx.cursor()\n",
    "try:\n",
    "    #alteringing table\n",
    "    cur.execute(\"alter table Employee add branch_name varchar(20) not null\")\n",
    "except:\n",
    "    cnx.rollback()\n",
    "cnx.close()"
   ]
  },
  {
   "cell_type": "code",
   "execution_count": 11,
   "metadata": {},
   "outputs": [
    {
     "name": "stdout",
     "output_type": "stream",
     "text": [
      "1 record inserted!\n"
     ]
    }
   ],
   "source": [
    "#insert data into table\n",
    "import mysql.connector\n",
    "cnx = mysql.connector.connect(user='root', password='', host='127.0.0.1', database='sampledb')\n",
    "#creating the cursor object\n",
    "cur = cnx.cursor()\n",
    "sql = \"insert into Employee(name, id, salary, dept_id, branch_name) values (%s, %s, %s, %s, %s)\"\n",
    "\n",
    "#The row values are provided in the form of tuple  \n",
    "val = (\"John\", 110, 25000.00, 201, \"Newyork\")\n",
    "try:\n",
    "    #Executing insert query\n",
    "    cur.execute(sql,val)\n",
    "\n",
    "    #commit the transaction  \n",
    "    cnx.commit()\n",
    "except:\n",
    "    cnx.rollback()\n",
    "print(cur.rowcount,\"record inserted!\")\n",
    "cnx.close()"
   ]
  },
  {
   "cell_type": "code",
   "execution_count": 12,
   "metadata": {},
   "outputs": [
    {
     "name": "stdout",
     "output_type": "stream",
     "text": [
      "3 records inserted!\n"
     ]
    }
   ],
   "source": [
    "#insertmultiple  data into table\n",
    "import mysql.connector\n",
    "cnx = mysql.connector.connect(user='root', password='', host='127.0.0.1', database='sampledb')\n",
    "#creating the cursor object\n",
    "cur = cnx.cursor()\n",
    "sql = \"insert into Employee(name, id, salary, dept_id, branch_name) values (%s, %s, %s, %s, %s)\"\n",
    "\n",
    "#The row values are provided in the form of tuple  \n",
    "val = [(\"John\", 102, 25000.00, 201, \"Newyork\"),(\"David\",103,25000.00,202,\"Port of spain\"),(\"Nick\",104,90000.00,201,\"Newyork\")]\n",
    "#to print all databases\n",
    "try:\n",
    "    #Executing Insert query\n",
    "    cur.executemany(sql,val)\n",
    "\n",
    "    #commit the transaction  \n",
    "    cnx.commit()\n",
    "    print(cur.rowcount,\"records inserted!\")\n",
    "except:\n",
    "    cnx.rollback()\n",
    "cnx.close()"
   ]
  },
  {
   "cell_type": "code",
   "execution_count": 14,
   "metadata": {},
   "outputs": [
    {
     "name": "stdout",
     "output_type": "stream",
     "text": [
      "('John', 102, 25000.0, 201, 'Newyork')\n",
      "('David', 103, 25000.0, 202, 'Port of spain')\n",
      "('Nick', 104, 90000.0, 201, 'Newyork')\n",
      "('John', 110, 25000.0, 201, 'Newyork')\n"
     ]
    }
   ],
   "source": [
    "#selecting data\n",
    "import mysql.connector\n",
    "cnx = mysql.connector.connect(user='root', password='', host='127.0.0.1', database='sampledb')\n",
    "#creating the cursor object\n",
    "cur = cnx.cursor()\n",
    "try:\n",
    "    cur.execute(\"select * from Employee\")\n",
    "    #fetching the rows from the cursor object\n",
    "    result = cur.fetchall()\n",
    "    #printing the result\n",
    "\n",
    "    for x in result:\n",
    "        print(x);\n",
    "except:\n",
    "    cnx.rollback()\n",
    "cnx.close()"
   ]
  },
  {
   "cell_type": "code",
   "execution_count": 15,
   "metadata": {},
   "outputs": [
    {
     "name": "stdout",
     "output_type": "stream",
     "text": [
      "('John', 102, 25000.0)\n"
     ]
    }
   ],
   "source": [
    "#fetchone()\n",
    "import mysql.connector\n",
    "cnx = mysql.connector.connect(user='root', password='', host='127.0.0.1', database='sampledb')\n",
    "#creating the cursor object\n",
    "cur = cnx.cursor()\n",
    "try:\n",
    "    #Reading the Employee data     \n",
    "    cur.execute(\"select name, id, salary from Employee\")\n",
    "\n",
    "    #fetching the first row from the cursor object\n",
    "    result = cur.fetchone()\n",
    "\n",
    "    #printing the result\n",
    "    print(result)  \n",
    "except:\n",
    "    cnx.rollback()\n",
    "cnx.close()"
   ]
  },
  {
   "cell_type": "code",
   "execution_count": null,
   "metadata": {},
   "outputs": [],
   "source": []
  }
 ],
 "metadata": {
  "kernelspec": {
   "display_name": "Python 3",
   "language": "python",
   "name": "python3"
  },
  "language_info": {
   "codemirror_mode": {
    "name": "ipython",
    "version": 3
   },
   "file_extension": ".py",
   "mimetype": "text/x-python",
   "name": "python",
   "nbconvert_exporter": "python",
   "pygments_lexer": "ipython3",
   "version": "3.8.5"
  }
 },
 "nbformat": 4,
 "nbformat_minor": 4
}
