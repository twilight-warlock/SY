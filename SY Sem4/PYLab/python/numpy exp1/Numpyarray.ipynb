{
  "nbformat": 4,
  "nbformat_minor": 0,
  "metadata": {
    "colab": {
      "name": "Numpyarray.ipynb",
      "provenance": []
    },
    "kernelspec": {
      "name": "python3",
      "display_name": "Python 3"
    }
  },
  "cells": [
    {
      "cell_type": "code",
      "metadata": {
        "colab": {
          "base_uri": "https://localhost:8080/"
        },
        "id": "0ZjPp-RPluMd",
        "outputId": "9f05903e-209a-4087-92c7-d193c210d499"
      },
      "source": [
        "import numpy as np\r\n",
        "array_nums1 = np.arange(20).reshape(4,5)\r\n",
        "array_nums2 = np.array([[1,2,np.nan],[4,5,6],[np.nan, 7, np.nan]])\r\n",
        "print(\"Original arrays:\")\r\n",
        "print(array_nums1)\r\n",
        "print(array_nums2)\r\n",
        "print(\"\\nAll the nan of array_nums2 replaced by the mean of array_nums1:\")\r\n",
        "array_nums2[np.isnan(array_nums2)]= np.mean(array_nums1)\r\n",
        "print(array_nums2)"
      ],
      "execution_count": null,
      "outputs": [
        {
          "output_type": "stream",
          "text": [
            "Original arrays:\n",
            "[[ 0  1  2  3  4]\n",
            " [ 5  6  7  8  9]\n",
            " [10 11 12 13 14]\n",
            " [15 16 17 18 19]]\n",
            "[[ 1.  2. nan]\n",
            " [ 4.  5.  6.]\n",
            " [nan  7. nan]]\n",
            "\n",
            "All the nan of array_nums2 replaced by the mean of array_nums1:\n",
            "[[1.  2.  9.5]\n",
            " [4.  5.  6. ]\n",
            " [9.5 7.  9.5]]\n"
          ],
          "name": "stdout"
        }
      ]
    },
    {
      "cell_type": "code",
      "metadata": {
        "colab": {
          "base_uri": "https://localhost:8080/"
        },
        "id": "TroV5wSIlvdz",
        "outputId": "ce91b22c-6b88-468e-803f-307e5268558a"
      },
      "source": [
        "import numpy as np\r\n",
        "array_nums1 = np.arange(20).reshape(4,5)\r\n",
        "array_nums1.fill(5)\r\n",
        "array_nums1"
      ],
      "execution_count": null,
      "outputs": [
        {
          "output_type": "execute_result",
          "data": {
            "text/plain": [
              "array([[5, 5, 5, 5, 5],\n",
              "       [5, 5, 5, 5, 5],\n",
              "       [5, 5, 5, 5, 5],\n",
              "       [5, 5, 5, 5, 5]])"
            ]
          },
          "metadata": {
            "tags": []
          },
          "execution_count": 3
        }
      ]
    },
    {
      "cell_type": "code",
      "metadata": {
        "id": "ZrHBTdm4mIKA",
        "colab": {
          "base_uri": "https://localhost:8080/"
        },
        "outputId": "44d44edb-fc7a-4c4a-a47e-3ccde5966565"
      },
      "source": [
        "import numpy as np\r\n",
        "x=np.random.randint(0,50,1000)\r\n",
        "y=x+ np.random.randint(0,10,1000)\r\n",
        "np.corrcoef(x,y)"
      ],
      "execution_count": 4,
      "outputs": [
        {
          "output_type": "execute_result",
          "data": {
            "text/plain": [
              "array([[1.        , 0.98047571],\n",
              "       [0.98047571, 1.        ]])"
            ]
          },
          "metadata": {
            "tags": []
          },
          "execution_count": 4
        }
      ]
    },
    {
      "cell_type": "code",
      "metadata": {
        "id": "5veRyqs7UpNe"
      },
      "source": [
        "import matplotlib"
      ],
      "execution_count": 6,
      "outputs": []
    },
    {
      "cell_type": "code",
      "metadata": {
        "id": "IZsrK_nrVlAx"
      },
      "source": [
        "import matplotlib.pyplot as plt"
      ],
      "execution_count": 7,
      "outputs": []
    },
    {
      "cell_type": "code",
      "metadata": {
        "colab": {
          "base_uri": "https://localhost:8080/",
          "height": 266
        },
        "id": "SoYXNSBrVpgR",
        "outputId": "4feb5907-9089-4efc-ed21-004d5ef00985"
      },
      "source": [
        "plt.scatter(x,y)\r\n",
        "plt.show()\r\n"
      ],
      "execution_count": 8,
      "outputs": [
        {
          "output_type": "display_data",
          "data": {
            "image/png": "[encoded data removed]",
            "text/plain": [
              "<Figure size 432x288 with 1 Axes>"
            ]
          },
          "metadata": {
            "tags": [],
            "needs_background": "light"
          }
        }
      ]
    },
    {
      "cell_type": "code",
      "metadata": {
        "colab": {
          "base_uri": "https://localhost:8080/"
        },
        "id": "TGSs3WxrVxt8",
        "outputId": "c7d14a69-d926-45e6-dcd8-da2c7aa60fe3"
      },
      "source": [
        "#l1=[[1,2,3],[4,5,6],[7,8,9]]\r\n",
        "import numpy as np\r\n",
        "arr=np.array([[2,np.nan,6],[6,np.nan,9]])\r\n",
        "print(arr.dtype)\r\n",
        "\r\n",
        "x=np.isnan(arr)\r\n",
        "print(x)\r\n",
        "arr[x]=-1\r\n",
        "print(arr)"
      ],
      "execution_count": 1,
      "outputs": [
        {
          "output_type": "stream",
          "text": [
            "float64\n",
            "[[False  True False]\n",
            " [False  True False]]\n",
            "[[ 2. -1.  6.]\n",
            " [ 6. -1.  9.]]\n"
          ],
          "name": "stdout"
        }
      ]
    },
    {
      "cell_type": "code",
      "metadata": {
        "id": "Y_B3FMaYWlEd"
      },
      "source": [
        ""
      ],
      "execution_count": null,
      "outputs": []
    }
  ]
}