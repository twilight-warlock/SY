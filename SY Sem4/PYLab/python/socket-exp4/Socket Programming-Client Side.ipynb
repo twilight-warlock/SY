{
 "cells": [
  {
   "cell_type": "code",
   "execution_count": 4,
   "metadata": {},
   "outputs": [
    {
     "name": "stdout",
     "output_type": "stream",
     "text": [
      "Connected\n",
      "Welcome !\n",
      "<class 'str'>\n"
     ]
    }
   ],
   "source": [
    "import socket\n",
    "\n",
    "#Step 1: create a socket\n",
    "c = socket.socket()#by default initialized with following parameters: socket.AF_INET, socket.SOCK_STREAM\n",
    "\n",
    "#Step 2: connect to server\n",
    "c.connect(('localhost', 9999))#pass server IP address and port number\n",
    "\n",
    "print('Connected')\n",
    "\n",
    "#Recieve data from server\n",
    "    #1024- no. of bytes to receive.\n",
    "    #recv() can be used with both, TCP and UDP sockets. \n",
    "    #It returns the received data as byte object\n",
    "\n",
    "fromserver = c.recv(1024).decode()\n",
    "print(fromserver)\n",
    "print(type(fromserver))\n",
    "\n",
    "#client sends data to server\n",
    "toserver = bytes('Hello from Client','utf-8')\n",
    "c.send(toserver)\n",
    "\n",
    "\n",
    "c.close()\n",
    "\n",
    "\n",
    "\n",
    "\n"
   ]
  },
  {
   "cell_type": "code",
   "execution_count": null,
   "metadata": {},
   "outputs": [],
   "source": []
  }
 ],
 "metadata": {
  "kernelspec": {
   "display_name": "Python 3",
   "language": "python",
   "name": "python3"
  },
  "language_info": {
   "codemirror_mode": {
    "name": "ipython",
    "version": 3
   },
   "file_extension": ".py",
   "mimetype": "text/x-python",
   "name": "python",
   "nbconvert_exporter": "python",
   "pygments_lexer": "ipython3",
   "version": "3.7.4"
  }
 },
 "nbformat": 4,
 "nbformat_minor": 4
}
