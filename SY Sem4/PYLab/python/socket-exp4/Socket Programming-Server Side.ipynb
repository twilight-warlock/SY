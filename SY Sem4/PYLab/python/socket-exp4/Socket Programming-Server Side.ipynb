{
 "cells": [
  {
   "cell_type": "code",
   "execution_count": null,
   "metadata": {},
   "outputs": [
    {
     "name": "stdout",
     "output_type": "stream",
     "text": [
      "Server Socket Created\n",
      "Waiting for connections........\n",
      "Connected with ('127.0.0.1', 53533) <socket.socket fd=1048, family=AddressFamily.AF_INET, type=SocketKind.SOCK_STREAM, proto=0, laddr=('127.0.0.1', 9999), raddr=('127.0.0.1', 53533)>\n",
      "Hello from Client\n"
     ]
    }
   ],
   "source": [
    "import socket\n",
    "\n",
    "#Step1: Create a server socket\n",
    "#The first parameter is AF_INET and the second one is SOCK_STREAM. AF_INET refers to the address family ipv4. \n",
    "#The SOCK_STREAM means connection oriented TCP protocol and socket.SOCK_DGRAM means UDP protocol\n",
    "try:\n",
    "    s = socket.socket(socket.AF_INET, socket.SOCK_STREAM)\n",
    "    print(\"Server Socket Created\")\n",
    "\n",
    "    #Step 2: bind server socket to specific port number\n",
    "    s.bind((\"localhost\", 9999))#0-65535\n",
    "\n",
    "    #Step 3: start listening to 3 client connections on server socket\n",
    "    s.listen(3)\n",
    "    print(\"Waiting for connections........\")\n",
    "\n",
    "    while True:\n",
    "        #Step 4: Accept client connections\n",
    "        c, addr = s.accept()\n",
    "\n",
    "        print('Connected with',addr,c)\n",
    "\n",
    "        #Send data to client\n",
    "        toclient = bytes('Welcome !','utf-8')\n",
    "        c.send(toclient)\n",
    "        \n",
    "        #server receives data from client\n",
    "        fromclient = c.recv(1024).decode()\n",
    "        print(fromclient)        \n",
    "        \n",
    "        #close client connection\n",
    "        c.close()\n",
    "except Exception as e:\n",
    "    print(e)"
   ]
  }
 ],
 "metadata": {
  "kernelspec": {
   "display_name": "Python 3",
   "language": "python",
   "name": "python3"
  },
  "language_info": {
   "codemirror_mode": {
    "name": "ipython",
    "version": 3
   },
   "file_extension": ".py",
   "mimetype": "text/x-python",
   "name": "python",
   "nbconvert_exporter": "python",
   "pygments_lexer": "ipython3",
   "version": "3.7.4"
  }
 },
 "nbformat": 4,
 "nbformat_minor": 4
}
